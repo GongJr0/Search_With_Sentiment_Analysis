{
 "cells": [
  {
   "cell_type": "code",
   "execution_count": 1,
   "metadata": {},
   "outputs": [],
   "source": [
    "from _class.search import Search\n",
    "from _class.scrape import Scrape\n",
    "from _class.sentiment import Sentiment\n",
    "from _class.utils import Utils"
   ]
  },
  {
   "cell_type": "code",
   "execution_count": 2,
   "metadata": {},
   "outputs": [],
   "source": [
    "search: Search = Search()\n",
    "scrape: Scrape = Scrape()\n",
    "sentiment: Sentiment = Sentiment()"
   ]
  },
  {
   "cell_type": "code",
   "execution_count": 3,
   "metadata": {},
   "outputs": [
    {
     "data": {
      "text/plain": [
       "['https://www.readthetale.com/popular-bedtime-stories/cinderella',\n",
       " 'https://www.thefablecottage.com/fables/cinderella-full',\n",
       " 'https://www.youtube.com/watch?v=SluNUqeuA9g',\n",
       " 'https://www.vedantu.com/stories/disney-princess-cinderella',\n",
       " 'https://www.youtube.com/watch?v=DgwZebuIiXc',\n",
       " 'https://storiestogrowby.org/story/cinderella-fairy-tale-english-story-for-kids/',\n",
       " 'https://www.firstcry.com/intelli/articles/story-of-cinderella-with-moral-for-kids/?srsltid=AfmBOopTiDNcVT4lbhGWzizGB3AFSn96iJvh4rIduRcZB0Nr0jWuSGjP',\n",
       " 'https://cozybedtimestories.com/cinderella-story/',\n",
       " 'https://sooperbooks.com/story/cinderella-story/',\n",
       " 'https://www.thefablecottage.com/fables/cinderella']"
      ]
     },
     "execution_count": 3,
     "metadata": {},
     "output_type": "execute_result"
    }
   ],
   "source": [
    "query = search.run('cindirella full story')\n",
    "query"
   ]
  },
  {
   "cell_type": "code",
   "execution_count": 4,
   "metadata": {},
   "outputs": [
    {
     "name": "stdout",
     "output_type": "stream",
     "text": [
      "Removed 2677 stopwords from URL: https://www.readthetale.com/popular-bedtime-stories/cinderella\n",
      "Removed 2659 stopwords from URL: https://www.thefablecottage.com/fables/cinderella-full\n",
      "Removed 0 stopwords from URL: https://www.youtube.com/watch?v=SluNUqeuA9g\n",
      "Removed 3066 stopwords from URL: https://www.vedantu.com/stories/disney-princess-cinderella\n",
      "Removed 0 stopwords from URL: https://www.youtube.com/watch?v=DgwZebuIiXc\n",
      "Removed 10400 stopwords from URL: https://storiestogrowby.org/story/cinderella-fairy-tale-english-story-for-kids/\n",
      "Request on URL: https://www.firstcry.com/intelli/articles/story-of-cinderella-with-moral-for-kids/?srsltid=AfmBOopTiDNcVT4lbhGWzizGB3AFSn96iJvh4rIduRcZB0Nr0jWuSGjP failed with status code: 403\n",
      "Removed 1451 stopwords from URL: https://cozybedtimestories.com/cinderella-story/\n",
      "Request on URL: https://sooperbooks.com/story/cinderella-story/ failed with status code: 404\n",
      "Removed 494 stopwords from URL: https://www.thefablecottage.com/fables/cinderella\n"
     ]
    },
    {
     "data": {
      "text/plain": [
       "['<- Back Favorites upon time, faraway kingdom, lived young girl named Cinderella. kind, gentle, beautiful child radiant smile. Cinderella heart full love, u nfortunately, fate kind Cinderella. mother passed away, leaving alone selfish stepmother . stepmother two daughters own, terribly jealous Cinderella\\'s beauty kind heart. treated Cinderella unfairly, making housework dress rags daughters wore fine clothes lived luxury. Despite cruelty faced, Cinderella remained kind gentle, never letting stepmother\\'s unkindness change was. would often seek comfort garden, talking birds animals, become dearest friends. One day, kingdom received exciting news. prince hosting grand ball palace, every maiden land invited. Cinderella\\'s stepsisters overjoyed spent weeks preparing gowns practicing dance moves. Cinderella watched stepsisters sad smile, hoping might able attend ball experience bit magic heard mother\\'s stories. stepmother insistent Cinderella would stay home continue chores. night ball arrived, Cinderella left alone old clothes stepsisters stepmother departed palace. sat fireplace, tears eyes, wishing taste magic mother told about. Suddenly, soft, sweet voice filled room. fairy godmother, beautiful figure surrounded soft, glowing light. \"Why crying, dear?\" fairy godmother asked. Cinderella explained wish attend ball stepmother unkind refused allow go. fairy godmother smiled said, \"Don\\'t worry, child. shall go ball.\" wave wand, Cinderella\\'s rags transformed stunning gown, feet, wore delicate glass slippers sparkled like stars. fairy godmother turned pumpkin magnificent carriage mice beautiful horses, Cinderella could travel palace style. left, fairy godmother gave Cinderella piece advice: \"Remember, dear, magic last midnight. clock strikes twelve, must leave palace return home.\" Cinderella thanked fairy godmother climbed magical carriage. arrived palace, felt like princess, heart dancing joy. moment Cinderella entered ballroom, entire room fell silent. prince, charmed beauty, approached her, danced together like dream. Cinderella happiest ever been. hours flew by, suddenly heard bells palace clock. first stroke midnight sent shiver spine. remembered fairy godmother\\'s warning knew must leave. Cinderella hurriedly said goodbye prince fled palace. ran grand staircase, one glass slippers slipped foot. time retrieve it, so, one glass slipper, disappeared night. Cinderella\\'s beautiful gown glass slippers turned back rags, leaving memory enchanting evening spent palace. next day, prince determined find owner glass slipper. attendants traveled throughout kingdom, visiting every home see slipper would fit young maiden. arrived Cinderella\\'s cottage, stepsisters eagerly tried fit feet glass slipper. small them, feet simply squeeze in. Cinderella watched, hidden view, stepsisters attempted trick prince. Then, stepped forward and, hopeful heart, asked, \"May try?\" prince agreed, placed foot glass slipper, fit perfectly. prince\\'s eyes lit joy realized found maiden danced ball. Cinderella\\'s stepsisters astonished upset. even though mean her, Cinderella feel angry. Instead, forgave unkindness, believed kindness important thing world. so, Cinderella reunited prince, lived happily ever after, proving goodness, kindness, loving heart could overcome challenges life may bring . end! Moral Story: kind loving heart help tough times. Even though Cinderella faced meanness hard work, stayed kind gentle, goodness led happiness success. story also shows importance forgiveness, Cinderella forgave stepsisters, teaching us kind forgiving important. Follow-up questions: Cinderella want go prince\\'s ball? Cinderella\\'s fairy godmother help get ball, tell remember? Cinderella prince find again, think felt reunited? Get Cinderella Costume Amazon Buy book Amazon Join us fireplace chat Cinderella, enchanting princess story kindness, magic, legendary ball. 🔥📖 #StorytimeFireside <- Back Favorites Journey houses made straw, sticks, bricks charming story resilience huffing puffing wolf. Step world dreams awakenings Sleeping Beauty, classic tale love curses. Witness enchanting assistance tiny elves cobbler\\'s workshop. Witness royal test sensitivity charming tale pea hides beneath layers bedding. Ugly Duckling Running Game App Store Ugly Duckling Running Game Play Store Create Personalized Poem using Artificial Intelligence Create Bedtime Story using Artificial Intelligence Crash-landing Earth, Bumblebee , small Autobot scout, befriends curious boy named Anthony. Together, join forces noble Optimus Prime Autobots find AllSpark, powerful artifact coveted evil Megatron Decepticons. Read series \" Bubble Boy \": Join Timmy discovers extraordinary bubble powers, confronts villainous Dr. Gloom save city, learns true heroism kindness, courage, never giving up. Filled exciting adventures, heartwarming moments, valuable life lessons, book inspire young readers embrace unique talents make difference world. Read Top 10 Musical Instruments looking ignite love music little maestro? Look further... Check take top 10 board games family game night. \" Queen Bee \" tells magical story courageous young prince befriends magical queen bee \" Godfather \" captivating fairy tale humble boy encounters mysterious old man magical abilities. \" Wild Swans \" captivating bedtime story follows adventures Princess Eliza eleven brothers. \" Red Shoes \" charming bedtime story Lily, little girl enchanted magical pair red shoes. \" Riddle \" recounts tale clever young boy solves mysterious riddle help quick wit determination . \" Golden Bird \" follows journey young prince embarks magical quest capture shimmering golden bird . looking ignite love music little maestro? Look further... Looking way ditch screens, boost brainpower , create lasting memories family? \" Dragon Dream \" readers whisked away magical journey vibrant world filled wonder adventure.The story follows heartwarming bond young boy named Alex newfound friend, Spark dragon, embark series exhilarating escapades. Read series \" Seven Ravens \" captivating fairy tale seven brothers transformed ravens wicked spell. \" Fox Cat \" charming fable highlighting importance wisdom resourcefulness clever fox nimble cat navigate challenges together overcome adversity. \" Gold-Children \" heartwarming tale love acceptance kind-hearted couple receives golden twins, facing societal challenges discover true value inner beauty compassion. \" Water Life \" captivating tale brave young hero\\'s quest find magical potion heal ailment. \" Pink \" delightful fairy tale curious girl discovers magical pink rose bush learns true meaning friendship kindness. \" Godfather \" captivating fairy tale humble boy encounters mysterious old man magical abilities. Load weather turns frightful, chase away indoor blues top 10 rainy day games kids Amazon! Explore curated list top 10 crafts kids, designed inspire creativity fun! easy DIY projects imaginative activities. Contact Us Submit Story Privacy Policy Us Blog Poems forget follow stay connected ©202 4 Read Tale bedtime stories. rights reserved. .',\n",
       " 'long time ago beautiful girl named Cinderella. Cinderella long red hair, green eyes, freckles nose. clever kind, loved tell jokes. unhappy. father mother died, Cinderella lived stepmother two stepsisters. Although lived big house, actually quite poor. money nearly gone. Cinderella\\'s stepmother wanted one daughters marry rich man would longer poor. Cinderella\\'s stepsisters pretty Cinderella, kind Cinderella, funny Cinderella. men came house always fell immediately love Cinderella, never noticed stepsisters. frustrated stepmother, ordered Cinderella chores. \"Sweep hallway!\" demanded stepmother. \"Clean kitchen!\" Â \"Cook dinner!\" \"Tidy bedrooms!\" Â \"Mop bathroom!\" \"Wipe windows!\" \"Quick! Hurry!\" stepmother tried hard make Cinderella miserable. stepsisters beautiful dresses shoes, Cinderella\\'s dress made old rags. stepsisters always ate delicious foods, Cinderella always ate scraps. stepsisters slept comfortable beds bedrooms, Cinderella slept straw bed kitchen floor. animals Cinderella\\'s friends. evening sat beside fireplace kitchen told jokes family mice lived wall. talked cat. \"Things get better one day,\" told cat. \"Meowâ\\x80¦\" cat replied. One day, Cinderella garden picking pumpkins, letter arrived house. invitation king\\'s summer ball. Cinderella\\'s stepmother stepsisters excited. \"The prince there!\" \"He handsome!\" \"He rich!\" \"He needs wife!\" stepsisters spent weeks preparing ball. bought new dresses, new shoes, new handbags. day ball, Cinderella helped put dresses hair. \"Oh, wonderful idea!\" exclaimed youngest stepsister. \"Cinderella, come ball us! fun there!\" \"Oh, anything wearâ\\x80¦\" laughed oldest stepsister. \"You canâ\\x80\\x99t meet prince wearing dirty old clothes. shame. Maybe next time.â\\x80\\x9d Cinderella tried cry. finished dressing sisters went kitchen. sat beside fire sighed. \"Things get better one day,\" told cat. \"Meowâ\\x80¦\" cat replied. then, flash light, old woman appeared corner kitchen. \"Whoâ\\x80¦ you?\" stammered Cinderella. \"I fairy godmotherâ\\x80\\x9d said old woman. \"You orphan, orphans fairy godmother.\" fairy godmother stroked cat. \"This cat tells kind are. always wish things get better one day. Today day, Cinderella. going king\\'s ball. Fetch pumpkin!\" Cinderella ran garden picked big, orange pumpkin. fairy godmother touched pumpkin magic wand turned golden carriage. \"Come here, little mice!\" said mice wall. waved wand again, mice turned six beautiful horses pull carriage. \"But dress!\" said Cinderella. \"Stand still,\" said fairy godmother. waved wand again, Cinderella\\'s dirty clothes turned spectacular silver dress. Two beautiful glass shoes appeared Cinderella\\'s feet. \"Now go ball!\" said fairy godmother. \"But must home midnight! clock strikes twelve, dress turn back rags, carriage turn back pumpkin. ... fun!\" another flash light, fairy godmother disappeared. \"I\\'m going ball!\" said Cinderella. \"Meowâ\\x80¦\" said cat. kingâ\\x80\\x99s ball, prince bored. Â felt like danced every young lady kingdom. ladies wearing beautiful dresses, none ladies interesting. None understood jokes. prince finished dancing one Cinderella\\'s stepsisters room suddenly fell silent. Everybody turned look beautiful girl walked door. long red hair kind green eyes. dress silver. shoes sparkled, like made glass. Cinderella, nobody recognised her. even stepmother stepsisters! prince\\'s mouth dropped open. never seen woman beautiful Cinderella. asked dance. danced together evening. prince thought Cinderella beautiful, also kind, clever funny. laughed jokes, laughed hers. Cinderella wonderful time notice late. clock began chime midnight. Dongâ\\x80¦ dongâ\\x80¦ dongâ\\x80¦ \"Oh no! leave!\" gasped Cinderella, ran ballroom. \"Don\\'t go! even know name!\" shouted prince. Cinderella already gone. Cinderella fled palace fast lost one glass shoes stairs. got bottom stairs â\\x80\\x94 DONG! â\\x80\\x94 clock finished chiming midnight. Cinderella\\'s beautiful dress turned back rags, golden carriage turned back pumpkin. \"Drat,\" said Cinderella. then, saw prince running towards her, holding glass shoe dropped. want see dressed dirty old rags. felt ashamed, nowhere hide! \"Excuse me, miss,\" said, panting. \"Did see beautiful girl went? shoe! must find her!\" prince didnâ\\x80\\x99t recognise Cinderella without beautiful clothes! Cinderella shook head. prince ran continue search. Cinderella walked way home. Three weeks passed. prince sleep. could stop thinking beautiful girl ball. waited return palace, return. waited send letter, letters came. Finally, desperation, gave glass shoe trusted messenger ordered visit every house kingdom. \"Find girl shoe belongs to, bring me!\" messenger visited hundreds houses. every house, women claimed glass shoe theirs. tried shoe, feet big, wide, small. Finally, messenger arrived Cinderella\\'s house. Cinderellaâ\\x80\\x99s stepmother opened door. \"Of course! course! Come in!â\\x80\\x9d led messenger dining room, two stepsisters waiting. oldest sister said \"Thank God! That\\'s shoe!\" tried shoe, foot wide. Â youngest sister said \"Silly sister... shoe, shoe!\" tried shoe, foot small. stepmother said \"Get way, girls, shoe. shoe!\" tried shoe. foot long. Â \"Oh silly!\" said stepmother. \"The shoe must shrunk rain...\" messenger easily fooled. \"Are women house?\" asked. \"No one serving girl, shoe certainly hers... \" said stepmother. \"Fetch immediately. Every woman kingdom must try shoe,\" insisted messenger. Cinderella arrived dining room wearing usual rags, face covered dirt. Â put dirty foot glass shoe andâ\\x80¦ amazing! wide. long. fit perfectly! quiet voice said, \"It\\'s shoe.\" \"Please come me,\" said messenger. Cinderella\\'s stepmother stepsisters could stop â\\x80¦ messenger hurried Cinderella door carriage. Cinderella taken palace meet prince. still wearing dirty old dress, arms, legs face dirty. looked floor felt ashamed. prince took Cinderella\\'s hand. â\\x80\\x8d \"Miss, please look me,\" requested kindly. lifted head saw kind, green eyes, knew girl fallen love ball. married next spring, spent rest lives laughing other\\'s jokes. â\\x80\\x8d Need help? download audio device',\n",
       " '',\n",
       " 'Talk experts 1800-120-456-456 short bedtime stories kids, fairy tales always favourite kids. Fairy tales like Snow-white Seven Dwarfs, Cinderella, Little Red Riding Hood, Rapunzel among all-time classics. Reading bedtime stories opens avenues imagination kids. introduced new ideas morals short stories. below-given Cinderella story kids pictures definitely good read little ones. upon time, beautiful, kind-hearted girl called Cinderella, lived far far away land. lived stepmother, Lady Tremaine, two step-sisters, Anastasia Drizella. stepmother fond her, asked Cinderella live attic. Two cute little mice named Gus Jaq chirping birds became best friends new room. stepmother stepsisters made household chores. Cinderella woke early morning still dark start fire household. cooked meals, worked kitchen, kept fire going warm house. Poor Cinderella used get ashes cinders clothes body fire. People say real name Ella, stepsisters stepmother called Cinderella always cinders clothes. Anastasia Drizella arrogant quarrelsome. never happened like Cinderella much made life miserable. made run errands them. Cooking, sewing, cleaning done Cinderella. Lady Tremaine enjoyed seeing Cinderella work hard. cunningly gave extra work Cinderella, like asking bathe cat, Lucifer. everything could make Lady Tremaine, Anastasia, Drizella happy. One fine morning, king’s messengers came riding horses announced King Queen invited maiden ladies kingdom royal ball. King Queen find Prince lovely bride. young ladies overjoyed news. started decide best ball gowns jewellery. Soon, king’s messenger arrived Cinderella’s home handed invitation ball. Lady Tremaine ordered Cinderella stitch two beautiful new gowns Anastasia Drizella royal ball. kept Cinderella busy chores wouldn’t going ball. Cinderella wished go ball well. So, found mother’s old dress trunk. thought could make dress beautiful new one fit royal ball. Soon, day royal ball arrived, Anastasia Drizella dressed beautiful gowns stitched Cinderella. Meanwhile, attic, Gus Jaq, two little mice, birds turned Cinderella’s mother’s old dress beautiful one. used ribbons beads thrown away Cinderella’s stepsisters make Cinderella’s dress. Cinderella happy see new dress done mice birds. thanked little friends thought could go ball now. stepsisters flew terrible rage saw beautiful dress. pulled ribbons beads destroy dress. ripped beautiful dress Cinderella wore. Lady Tremaine stop daughters, instead, watched destroy Cinderella’s dress. left ball two daughters fine carriage Cinderella left alone house. felt bad went garden. started weep looked mother’s dress ripped. softly said herself, “ wish could also go ball!” Suddenly, Fairy Godmother appeared front Cinderella. told showed make Cinderella’s wish come true. Fairy Godmother touched Cinderella’s head wand Cinderella clean pretty right away. messy hair tucked nicely golden band. another tap wand, Cinderella’s dress turned gorgeous gown. Cinderella couldn’t believe eyes. looked pretty beautiful gown amazing glass slippers Fairy Godmother created her. didn’t carriage go ball. So, Fairy Godmother waved magic wand pumpkin turned fine carriage Cinderella. tapped wand little mice turned Cinderella’s carriage-men. Fairy Godmother told Cinderella go ball fun. added, “Remember child, magic spell vanish stroke midnight. Come back that.” Cinderella promised back midnight left happily ball carriage drawn Gus Jaq. Cinderella arrived palace, surprised see place majestic ball grand. many young ladies escorted mothers. Everyone wanted impress Prince. Prince loss. didn’t know look dance with. Cinderella entered royal ball, heads turned see her. looked like dream. one happened recognize her, even stepmother stepsisters awestruck see girl beautiful. Cinderella walked ballroom head held high. looked royal everyone thought princess. Prince couldn’t take eyes Cinderella. walked introduced himself. Cinderella bowed greeted Prince. asked dance. talked, laughed, kept dancing every song. young ladies ball became jealous Cinderella. evening went on, Cinderella Prince became engrossed other’s company. Prince smitten charm beauty. Cinderella never happier. Suddenly, heard ‘Dong’, ‘Dong!’ clock strike 12. looked big royal clock palace found almost midnight. screamed, “Oh! almost midnight!” told Prince couldn’t stay longer. said, “I must go now.” Prince couldn’t hear Cinderella clock loud enough. Cinderella bid goodbye ran stairs hurry. hurrying stairs, one glass slippers came feet didn’t stop pick left palace. magic spell started wear off. Prince followed stairs. “I don’t even know name,” called her. didn’t turn back seemed vanished thin air, carriage. Prince found glass slipper stairs. realised special glass slipper could fit Cinderella’s foot. next day, started look slipper. went one house another tried find right fit glass slipper. young ladies trying wear glass slipper, didn’t fit them. Finally, Prince arrived Cinderella’s house. Lady Tremaine’s daughters ready try glass slipper, didn’t fit feet. Prince asked young lady house. Though refused tell Prince Cinderella, found working house. got knee insisted tried glass slipper. perfect fit Cinderella’s foot. Prince overjoyed found love. didn’t care cinders hair looked eyes. “I found you!” said took Cinderella him. Lady Tremaine two daughters grew red anger, Cinderella’s friends Gus Jaq rejoiced. Prince married Cinderella lived happily ever after, palace. “Good people always rewarded right time.” Princess Cinderella story, Cinderella always good despite difficulties faced. Prince found though cinders dress hair. fell love innocence goodness. Cinderella’s miserable days came end. got married Prince lived happily ever after. Golden Touch, Monkey Crocodile, Hansel Gretel, etc., popular short bedtime stories kids. best part stories convey important messages fun way. Kids also download Cinderella story kids PDF read story offline. 1. Cinderella’s best friends? Two little mice birds Cinderella’s best friends. talked dreams wishes attic. loved lot felt bad stepmother stepsisters treated badly. mice birds put together ribbons beads mother’s old dress could go royal ball. 2. bedtime stories important kids? Reading bedtime stories child good practice several benefits. helps induce sleep among kids. kids start concentrating bedtime story, tend calm fall asleep easily. teach kids positive assertions explain moral bedtime story them. Also, kids learn many new words stories help develop vocabulary. Know courses. Book free counselling session. TOLL FREE: 1800-120-456-456 91 988-660-2456 (9 9:30 PM days) bondwithus@vedantu.com © 2024 .Vedantu.com. rights reserved',\n",
       " '',\n",
       " 'Illustrated By: Suzie Chang Chapters UPON TIME girl named Cinderella lived stepmother two stepsisters. Cinderella wake morning still dark cold start fire. Cinderella cooked meals. Cinderella kept fire going. poor girl could stay clean, ashes cinders fire. “What mess are!” two stepsisters laughed. called “Cinderella.” One day, big news announced village. time Prince find bride, King Queen going ball! young ladies land invited come. stepsisters wild joy. would wear beautiful gowns fix hair splendid way. doubt would one win favor Prince! Cinderella extra work do. sew two fabulous gowns step-sisters latest fashion. doubt would one win favor Prince! “Faster!” shouted one stepsister. “You call dress?” screamed other. “Oh, dear!” said Cinderella. “When I–“ stepmother marched room. “When ?” “Well,” said girl, “when time make dress ball?” “You?” barked stepmother. “Who said going ball?” “Did hear that?” One stepsister rolled back laughter. \"Cinderella, going ball?\" “Looking like ?\" stepsisters roared laughter. \"They\\'d never let mess front door!\" Cinderella thought herself, “I may look like mess mess, really, could, would go ball.” Soon big day came. Poufed pampered, stepmother stepsisters ready leave big night. fine carriage arrived pick up. stepmother stepsisters hopped inside. “Good-bye!” called Cinderella. “Have good time!” stepmother stepsisters turn respond. carriage door shut were, cloud dust. “Ah!” groaned Cinderella carriage clip-clopped cobblestone street. “If way go ball, too!” - Poof! sudden, front stood fairy. “You called?” said Fairy. “I did?” said Cinderella. “Who you?” “Your Fairy Godmother, course! know wish, come grant it.” “But…” said Cinderella, “my wish impossible.” “Excuse me!” said Fairy Godmother huff. “Did show thin air?” “I suppose did,” said Cinderella. “Did show thin air?\" “Then let one say possible not!” “Well, right,\" said Cinderella. looked dirty clothes. “But look me. cannot go ball.” “You look bit mess, child,” said Fairy Godmother gently. “Even something nice wear,\" said girl, \"I would way get there.\" “Dear me, possible,” said Fairy. tapped wand Cinderella’s head. once, Cinderella perfectly clean. What\\'s more, dressed beautiful blue gown! hair set high head golden band. “This amazing!” said Cinderella. “Who said done?” said Fairy Godmother. tapped wand again. once, beautiful carriage came be, driver four white horses. “Am dreaming?” said Cinderella, looking around astonishment. “It\\'s real real be,” said Fairy Godmother. “But one thing must know.” “What that?” “The magic lasts midnight. stroke midnight, over. Everything go back before.” “Then must sure leave ball midnight,” said Cinderella. “At stroke midnight, over.\" “Smart cookie,” said Fairy Godmother. stepped back. “My work done.” puff smoke, Fairy Godmother gone. Cinderella looked around. \"Did even happen?\" fine gown, golden band hair. driver four horses. “Coming?” called driver. \"I suppose did,\" said Cinderella. stepped carriage, off. ball, Prince felt despondent. “Why sad look face?” Queen said son. “You would think royal ball father hosting you, find bride.” “I know Father looking me,” said Prince. Yet something wrong. already met young women ball, said “Hello,” nothing say. \"Look!\" Someone pointed front door ballroom, top stairs. heads turned. lovely maiden stepping stairs? held head tall stepped grace elegance. she? one knew. “There something young lady,” said Prince himself. “I ask dance.” walked Cinderella. “Have met?” said Prince. “I pleased meet now,” said Cinderella bow. “I feel know you,” said Prince. “But course, that\\'s impossible.” “I feel know you,\" said Prince. “Many things possible,” said Cinderella, “if wish true.” \"Do really believe that?\" said Prince. \"I know it,\" said Cinderella. Prince felt leap heart. Cinderella danced. song over, danced again. again. time talking laughing. Soon maidens ball grew jealous. “Why staying dance dance ?” said. “Give someone else chance. rude!” Prince wanted stay Cinderella. fact, danced long Cinderella see clock. “Dong!” struck clock. Cinderella looked up. “Dong!” rung clock again. turned clock. “Oh, my!” cried. “It\\'s almost midnight!” “Dong!” called clock. “Why matter?” said Prince. \"The night young.\" “Dong!\" called clock. “Dong!” rung clock again. “I must go!” said Cinderella. “Dong!” went clock. “But met!” said Prince. “Dong!” rung clock. “I must go !” said Cinderella. ran steps. “Dong!” cried clock. “I cannot hear you,” said Prince. “The clock loud!” “Dong!” rung clock. “Goodbye!” said Cinderella. ran stairs fast could. “Dong!” went clock. “Please, stop moment!” said Prince. “Oh, dear!” said one glass slipper fell foot stair. Cinderella kept running. “Dong!” said clock. “Please wait moment!” said Prince. “Dong!” rung clock. “Goodbye!” Cinderella turned one last time. rushed door. “Dong!” clock quiet. midnight. “Wait!” called Prince. picked glass slipper dashed door follow her. looked around could see blue dress anywhere. “This left her,” said, looking forlornly glass slipper. noticed made special way, fit foot like none other. “Somewhere young maiden glass slipper,” said. “I find her, do, ask bride!” village village, cottage cottage went Prince. One young woman another tried fit foot inside glass slipper. none could fit. asked glass slipper. None did. Prince moved on. last Prince came Cinderella’s cottage. “He coming!” shrieked one stepsister looked window. “He here, door right now!” screamed stepsister. last Prince came Cinderella\\'s cottage. “Hush!” hissed stepmother. “He\\'ll hear you! get ready. One must fit foot slipper, matter takes!” stepmother swirled around face Cinderella. \"Get sight,\" glowered, \"Go room right stay there!\" Prince knocked. stepmother flew open door. “Come in!” said sweet, sultry voice. “I two lovely daughters must see.” first stepsister tried fit foot glass slipper. hard tried, foot could squeeze in. second step-sister tried fit foot inside, dice. neither glass slipper. “Are young women house?” said Prince. “None,” said stepmother. “Then take leave,” said Prince. “Maybe one more,” said Cinderella, stepping room. “I thought said young women here,” said Prince. “None matter!” seethed stepmother. “Come here,” said Prince warmly. Cinderella stepped him. Prince got one knee tried glass slipper foot. fit perfectly! \"Well, suppose pair back again,\" said Cinderella. pocket took glass slipper! “I knew it!” cried. “You one!” “ ?” shouted stepsister. “Not !” screamed stepsister. “This cannot !” shrieked stepmother. late. prince looked eyes. knew young woman one met danced with, loved talking to. see cinders hair ashes face. “I found you!” said. “And found you,” said Cinderella. Cinderella Prince married, lived happily ever after. Listen Read Along! Watch Storytelling Video: GOOD FAIR OHTERS Suzie Chang’s enchanting illustrations breathe life timeless Cinderella fairytale! artistic brilliance captures magic, making every page journey world wonder. Bravo, Suzie! Every thing possible patient. act mean, nothing get done. dream wish come true!!! Story sooo cool! RESPONSE STORIES GROW BY. Rama, tell us–what think cool Cinderella? cool story think story favorite anything possible little brothers words : ‘ platform amazing ! sometimes feel like reading actual book easy word meanings pictures ! rate reading platform would 10/10 ! ‘ completely agree , amazing reading platform easy vocabulary sentences . brother thinks story teaches need treat others way want treated never know might turn future. show us good wicked person. book fun read loved found him?✨? Really good simple language simple meaning vocabulary also. got all. Happy endings come true keep word. daughter’s words: book awesome love it!! liked part said “dong”! everyone comments “just learning shouldn’t rude people”? Bruh, learned 4. must think we’re better others. Don’t judge anyone love everyone. nice mean love story way love books story sóóóooooooooooó cool!!! Really good night time story reading adults tired read relax watch words, also good pictures little girl loved looking pics. story nice feeling good reading story, got English conversation. Thank you. love godmother said gone midnight slippers stayed growing up, realized prince recognize girl appearance. need girls try shoes. love way read listen words says. ?? learned good bad things others do, bad come back you. care others, kind people don’t want others you. people end. learned today’s topic called Cinderella that: 1. nice others bad things others, bad come back us. 2. make people suffer make fun end turn. like story tells faith patient, even impossible wish come true. like Cinderella lot this. wish something possible. tells reader nothing impossible believe. TRYING PATIENT Basically moral Cinderella is: people always fight want good heart hard work. wickedness envy lead negative consequences, whereas perseverance lead happy ending. matter situation is, don’t give dreams. moral story : rude Nothing impossible bad never wins good every time wins Nothing impossible. moral story nothing impossible. also rude . tells us nothing impossible. tells us nothing impossible story trying tell nothing impossible good never heard version that’s one reason it’s good another stepmom sisters got deserved story trying tell us nothing impossible. anything possible. keep walking forward courage hope, you’ll find need like story Cinderella one best ever! story tells nothing impossible lose hope. matter difficulties meet life, still hope. Never stop dreaming?? Hold dream keep dreaming it. sound beautiful keep wishing dream come true. one classes, class called Discovery Aces. learning Theme. answer “Say think story trying show you….” think, theme “Don’t doubt even others doubt you.” thought story good thing liked pictures sometimes looked really different. teacher lot fun reading book. lot laughs. loved speaker reading much expressions, right ones too! story might showing us believe accomplish whatever want. 3.The story trying tell us neat nice. People good evening sir/ma interesting story think good lesson lesson learned. kinder family need it. It’s called kindness respect people nice. Wow! Lessons well received. Cinderella let stepsisters mean really nice treated like slave. Cinderella changed really good way. went slave princess found prince. story showing anything want be. 7/10 Cinderella let stepsisters mean slave, choice. Cinderella changed went maid engaged prince. story trying show give hopes mean people boss around. think story showing people kind. Wow, story amazing. keep reading long want. love much! Wow! like story. good lie jealous. moral lesson Cinderella nice didn’t want mean step sisters. Cinderella found good things happen good people. good beats bad. cause Cinderella choice teaches persevere hard time never jealous…My blessing must surely locate due season even hidden valley. kindness brave story tells us. servant anything, good thing also deserve good. Hi Turkey! treat people equal matter who! thought let step-sisters mean her, one day would begin act nice treat well. trying tell us hard working never give ourselves. nice lovely story, loved much story. taught us treat others differently life bad always change future. Cinderella changed slave princess. grew strong leaving step mother step sister marrying prince. learned way was. (1) Cinderella let stepsisters mean later life better stepsisters. Also, know meets someone life loves her, get back married prince stepmother sister maids whatever wants call it. Next, got dance prince stepsisters jealous. (2) pick stepsisters rude Cinderella, would feel bad, mad sad. Bad rude her? could grow marry someone better may may marry someone. would feel mad wouldn’t get dance prince better life her. I’d feel sad rude reasons. (3) always nice way more, go. End ,,,, E B TOOK 5 MINS WRITE THANKS TELLING !!!!? think story trying tell us treat others way want treated, don’t underestimate others. ? story great, really helped fall asleep night felt sick. great telling story. teaches us nice else person get good fun stuff think Cinderella wanted make stepsisters like her. tried nice, hoping would. story trying teach us treat every one equal 1. won’t anything eat survive. 2. Cinderella grew changed got married happy someone makes happy. 3. let anyone judge book cover lessons learn everyday don’t know it. help lot calms down. one hit victory. want hear stories like one. Question 3- think anything possible, number 2 Cinderella teach us make fun someone ??? step sisters step mother mean sad ????????and that’s nice story sad Maria TEACH US MAKING JEST SOMEONE daughters favorite story love pictures/paintings Q1 Maybe believed insults. Maybe hearing insults often made believe them. didn’t support stood them. Maybe didn’t think would good manners proper speak back. 1. Cinderella let stepsisters mean Cinderella says something rude stepsisters stepmother say, “It stepsisters fault, fault.” 2. Cinderella changed doesn’t work mean stepsisters stepmother. 3. think story trying tell us really really really want win something loose person mean win, example mean someone competition 1 day really want win won’t person mean win. 1. Cinderella let stepsisters mean her? Cinderella didn’t want hurt them, loves them. stepmother rude hatefull Q3: External beauty many achieve, inner beauty makes one unique. Thanks hard amazing work, son appreciative. Cinderella beginning story like maid home end story became princess live castle. treat people respect make fun them. 1. Cinderella let stepsisters mean Cinderella says something rude stepsisters stepmother say ” stepsisters fault, fault.” 2. Cinderella changed doesn’t work mean stepsisters stepmother. 3. think story trying tell us really really really want win something loose person mean win, example mean someone competition 1 day really want win won’t person mean win. Say think story trying show you. feel story trying say whatever good do, good come back you. Question 3— Say think story trying show you. story trying say nothing impossible Question 1: would imagine Cinderella realized position. Although step-family mistreated greatly, still family small part cared them. Cinderella Baron’s daughter. could’ve easily written constable mistreatment fought rights title. Cinderella spirit forbearance. kind good heart. Maybe knew realities era found pitiable state. soo good let mind rest? love story good end lesson kind people matter poor rich thing matters kind everyone make world better place live happily ever life Question 1 : Cinderella starts story Housemaid stepmother stepsisters go boss around. Cinderella stills hopes go ball Prince continues hope despite bossed around stepmother stepsisters. eventually meet magic fairy stepmother denies request go festival. Magic fairy dresses takes festival princess tells back midnight. forgets midnight rushes home prince kingdom-wide search. eventually finds Cinderella buts magic slipper get married happily ever after. Question 2 : think one themes story hopeful, yet still try. story Cinderella rugged Dirty abusive parental units sisters tormenting her, yet still hopes tries go festival. kept hoping eventually get ball didn’t get without help without trying hoping. Beautiful story…. lesson story.. Never ever think better person sit next us… Cinderella nice ?♥️♥️♥️♥️?❤️❤️ message story kind don’t Know future blessings day ❤️❤️❤️????? Que 1 Cinderella good kind she’s situation character traits would normally flourish. work hard menial tasks, she’s forced wear tattered clothing, cut support network isolated attic. miserable lonely. Que2 often said things get better time, case Cinderella would agree. Although know story seen multiple versions numerous times, experiencing Nashville Children’s Theatre’s version Cinderella presented ideas never considered context story. Cinderella hard worker deserves break. Cinderella marry prince cause she’s good person. works hard takes care stepsisters stepmother. end finally gets married prince happy life . Helps learn things don’t know bad things. love story ?? it’s calming AMAZING EVER MADE !!!!!!!!!!!!!!!!!!!!!!!!!!!!!!!!!!!!!!!!!!!!!!!!!!!!!!!!!!!!!!!!!!!!!!!!!!!!!!!!!!!!!!!!!!!!!!!!!!!!!!!!!!!!!!!!!!!!!!!!!!!!!!!!!!!!!!!!!!!!!!!!!!!!!!!!!!!!!!!!!!!!!!!!!!!!!!!!!!!!!!!!!!!!!!!!!!!!!!!!!!!!!!!!!!!!!!!!!!!!!!!!!!!!!!!!!!!!!!!!!!!!!!!!!!!!!!!!!!!!!!!!!!!!!!!!!!!!!!!!!!!! Cinderella let stepsisters mean tried fight back would get yelled pushed around even more. Cinderella thought go ball young women invited woman felt needed go. Cinderella lived step mother stepsisters. else go everything told do. always mess never looked clean like them. knew beautiful mess. wanted look nice Prince too. Cinderella let stepsisters mean jobs like stepmother told to. scared stepmother. thought go ball prince said young ladies go. could rest. feel mess. way stopping step sister mean her. would fight back step mother would hateful her. said else go. women village invited, Cinderella woman village felt like go. Cinderella let stepsisters mean would’ve said something stepmother would yelled Cinderella wanted go ball thought would make happy Cinderella wanted go ball would make happy didn’t want stepmother yell anymore. Wow! Thank you! constantly needed write blog something like that. take part post blog? didn’t think mess. nice person deserves better. like story. There’s magic inside story answer 1 : last family. answer 2: thoughts different others. 1: thought maid 2: step sisters got go wanted go well knew would make life unbearable her, disobeys them.and needed even annoying people. 1 Cinderella let half-sisters wicked cruel asked mother kind cruel others. 2 thought alone would feel lonely, let step-mother step-sister go dance. teaches us respect people. touching story makes feel happy anytime read story, place like fairy godmother came transformed tattered girl beautiful girl blue gown band hair glass shoe. Cinderella ball would make happy. want stepmother yell more. 1,Beacause cinderella want mean them. 2.Beacause stepmother stepsisters went ball. Cinderella let stepsisters mean promised mother never mean people Cinderella thinks go ball stepsisters, stepmom going thought go too. Cinderella let mean promise mother we’ll kind nice never mean people think Cinderella let step sisters mean felt like choice listen think Cinderella thought go ball felt like since lived going ball included to. learned much judge dress look Wonderful ????????? I’m sure. Cinderella think wanted please people didn’t time think mean her. Cinderella thought go ball because, family got go won’t able to? infact enjoy it,its lovely wish could cindrella much like story wow wish cendarella lovely story enjoyed Nice Super email address published. Required fields marked * Comment * Name Email Website Δ',\n",
       " '',\n",
       " 'upon time, simple beautiful girl named Cinderella. lived evil stepmother two stepsisters. stepmother like made household work. stepsisters never work, roamed around house fancy dresses. always made fun Cinderella plain dressing. One day, letter king came house said king ball tonight son ‘The Prince’ would choosing wife; every girl kingdom must aware. Everyone got excited reading this, Cinderella wanted go ball. stepmother told go completes work time also helps stepsisters dresses ball. Cinderella worked fast could get everything done always something left. last, left home disappointed. weren’t stepsisters invited ball? Well, truth weren’t nice. always mean Cinderella didn’t treat well. Plus, clumsy big feet. would looked silly trying dance ballroom, tripping feet! Meanwhile, Cinderella run garden met fairy godmother. wave wand, made Cinderella look like princess. gave beautiful new gown, glass slippers, shiny black horses reach ball. leaving, fairy godmother said “this magic last midnight! must reach back home then!”. Cinderella entered palace, everybody awestruck beauty, prettiest girl ball. Even stepsisters didn’t recognize her. handsome prince also saw fell love her. girls jealous prince danced whole night. enjoyed much almost forgot fairy godmother told magic. However, saw time remembered godmother’s words quickly left palace ran away. hurry, one glass slipper wearing left castle steps. prince fallen love wanted find wanted marry her. next day, ordered king’s men go every house land find girl whose foot fits glass slipper. reached Cinderella’s house, two stepsisters tried best squeeze big feet slippers, could make it. Finally, Cinderella tried slipper, foot fit perfectly glass slipper. prince recognized ball night. married Cinderella soon grand ceremony lived happily ever after. stepsisters? Well, left behind clean mess made home Cinderella married prince. Maybe next time, they’ll learn kinder deserving invitation ball. story Cinderella tale beautiful girl living amongst cruel people, message hope perseverance. reminds us importance hard work, determination, importantly, treating others respect kindness. story teaches us never give up, even world seems us, always strive best selves. Let Cinderella’s tale inspire us follow dreams, never lose hope journey towards true happiness fulfillment. timeless tale Cinderella, beloved fairy tale known around world, retold numerous authors years. Among authors, Charles Perrault stands one famous influential storytellers. Born January 12, 1628, Paris, France, Perrault renowned French writer member prestigious Académie Française. contributions world literature, particularly realm fairy tales, left indelible mark storytelling. Perrault credited first author record publish story Cinderella familiar form. version, titled “Cendrillon” French, published 1697 part collection fairy tales called “Tales Mother Goose.” Perrault’s retelling Cinderella introduced iconic elements glass slipper, pumpkin carriage, fairy godmother, since become synonymous story.',\n",
       " '',\n",
       " 'long time ago beautiful girl named Cinderella. Cinderella long red hair, green eyes, freckles nose. clever kind, loved tell jokes. unhappy. father mother died, Cinderella lived stepmother two stepsisters. Although lived big house, actually quite poor. money nearly gone. Cinderella\\'s stepmother wanted one daughters marry rich man would longer poor. Cinderella\\'s stepsisters pretty Cinderella, kind Cinderella, funny Cinderella. men came house always fell immediately love Cinderella, never noticed stepsisters. frustrated stepmother, ordered Cinderella chores. \"Sweep hallway!\" demanded stepmother. \"Clean kitchen!\" Â \"Cook dinner!\" \"Tidy bedrooms!\" Â \"Mop bathroom!\" \"Wipe windows!\" \"Quick! Hurry!\" stepmother tried hard make Cinderella miserable. stepsisters beautiful dresses shoes, Cinderella\\'s dress made old rags. stepsisters always ate delicious foods, Cinderella always ate scraps. stepsisters slept comfortable beds bedrooms, Cinderella slept straw bed kitchen floor. animals Cinderella\\'s friends. evening sat beside fireplace kitchen told jokes family mice lived wall. talked cat. \"Things get better one day,\" told cat. \"Meowâ\\x80¦\" cat replied. Need help? download audio device']"
      ]
     },
     "execution_count": 4,
     "metadata": {},
     "output_type": "execute_result"
    }
   ],
   "source": [
    "text = scrape.textify_results(query)\n",
    "text"
   ]
  },
  {
   "cell_type": "code",
   "execution_count": 5,
   "metadata": {},
   "outputs": [
    {
     "data": {
      "text/plain": [
       "0.19648388006810263"
      ]
     },
     "execution_count": 5,
     "metadata": {},
     "output_type": "execute_result"
    }
   ],
   "source": [
    "sentiment.group_average([text[1]], combine=True)"
   ]
  },
  {
   "cell_type": "code",
   "execution_count": 6,
   "metadata": {},
   "outputs": [
    {
     "data": {
      "text/plain": [
       "0.1850477774258262"
      ]
     },
     "execution_count": 6,
     "metadata": {},
     "output_type": "execute_result"
    }
   ],
   "source": [
    "sentiment.wordlist_sentiment([text[1]])"
   ]
  },
  {
   "cell_type": "code",
   "execution_count": 7,
   "metadata": {},
   "outputs": [
    {
     "data": {
      "application/vnd.plotly.v1+json": {
       "config": {
        "plotlyServerURL": "https://plot.ly"
       },
       "data": [
        {
         "hovertemplate": "variable=Moving Average<br>Window Index=%{x}<br>Average Polarity (Standardized)=%{y}<extra></extra>",
         "legendgroup": "Moving Average",
         "line": {
          "color": "rgba(0,0,0,.66)",
          "dash": "solid"
         },
         "marker": {
          "symbol": "circle"
         },
         "mode": "lines",
         "name": "Moving Average",
         "orientation": "v",
         "showlegend": true,
         "type": "scatter",
         "x": [
          0,
          1,
          2,
          3,
          4,
          5,
          6,
          7,
          8,
          9,
          10,
          11,
          12,
          13,
          14,
          15,
          16,
          17,
          18,
          19,
          20,
          21,
          22,
          23,
          24,
          25,
          26,
          27,
          28,
          29,
          30,
          31,
          32,
          33,
          34,
          35,
          36,
          37,
          38,
          39,
          40,
          41,
          42,
          43,
          44,
          45,
          46,
          47,
          48,
          49,
          50,
          51,
          52,
          53,
          54,
          55,
          56,
          57,
          58,
          59,
          60,
          61,
          62,
          63,
          64,
          65,
          66,
          67,
          68,
          69,
          70,
          71,
          72,
          73,
          74,
          75,
          76,
          77,
          78,
          79,
          80,
          81,
          82,
          83,
          84,
          85,
          86,
          87,
          88,
          89,
          90,
          91,
          92,
          93,
          94,
          95,
          96,
          97,
          98,
          99,
          100,
          101,
          102,
          103,
          104,
          105,
          106,
          107,
          108,
          109,
          110,
          111,
          112,
          113,
          114,
          115,
          116,
          117,
          118,
          119,
          120,
          121,
          122,
          123,
          124,
          125,
          126,
          127,
          128,
          129,
          130,
          131,
          132,
          133,
          134,
          135,
          136,
          137,
          138,
          139,
          140,
          141,
          142,
          143,
          144,
          145,
          146,
          147,
          148,
          149,
          150,
          151,
          152,
          153,
          154,
          155,
          156,
          157,
          158,
          159,
          160,
          161,
          162,
          163,
          164,
          165,
          166,
          167,
          168,
          169,
          170,
          171,
          172,
          173,
          174,
          175,
          176,
          177,
          178,
          179,
          180,
          181,
          182,
          183,
          184,
          185,
          186,
          187,
          188,
          189,
          190,
          191,
          192,
          193,
          194,
          195,
          196,
          197,
          198,
          199,
          200,
          201,
          202,
          203,
          204,
          205,
          206,
          207,
          208,
          209,
          210,
          211,
          212,
          213,
          214,
          215,
          216,
          217,
          218,
          219,
          220,
          221,
          222,
          223,
          224,
          225,
          226,
          227,
          228,
          229,
          230,
          231,
          232,
          233,
          234,
          235,
          236,
          237,
          238,
          239,
          240,
          241,
          242,
          243,
          244,
          245,
          246,
          247,
          248,
          249,
          250,
          251,
          252,
          253,
          254,
          255,
          256,
          257,
          258,
          259,
          260,
          261,
          262,
          263,
          264,
          265,
          266,
          267,
          268,
          269,
          270,
          271,
          272,
          273,
          274,
          275,
          276,
          277,
          278,
          279,
          280,
          281,
          282,
          283,
          284,
          285,
          286,
          287,
          288,
          289,
          290,
          291,
          292,
          293,
          294,
          295,
          296,
          297,
          298,
          299,
          300,
          301,
          302,
          303,
          304,
          305,
          306,
          307,
          308,
          309,
          310,
          311,
          312,
          313,
          314,
          315,
          316,
          317,
          318,
          319,
          320,
          321,
          322,
          323,
          324,
          325,
          326,
          327,
          328,
          329,
          330,
          331,
          332,
          333,
          334,
          335,
          336,
          337,
          338,
          339,
          340,
          341,
          342,
          343,
          344,
          345,
          346,
          347,
          348,
          349,
          350,
          351,
          352,
          353,
          354,
          355,
          356,
          357,
          358,
          359,
          360,
          361,
          362,
          363,
          364,
          365,
          366,
          367,
          368,
          369,
          370,
          371,
          372,
          373,
          374,
          375,
          376,
          377,
          378,
          379,
          380,
          381,
          382,
          383,
          384,
          385,
          386,
          387,
          388,
          389,
          390,
          391,
          392,
          393,
          394,
          395,
          396,
          397,
          398,
          399,
          400,
          401,
          402,
          403,
          404,
          405,
          406,
          407,
          408,
          409,
          410,
          411,
          412,
          413,
          414,
          415,
          416,
          417,
          418,
          419,
          420,
          421,
          422,
          423,
          424,
          425,
          426,
          427,
          428,
          429,
          430,
          431,
          432,
          433,
          434,
          435,
          436,
          437,
          438,
          439,
          440,
          441,
          442,
          443,
          444,
          445,
          446,
          447,
          448,
          449,
          450,
          451,
          452,
          453,
          454,
          455,
          456,
          457,
          458,
          459,
          460,
          461,
          462,
          463,
          464,
          465,
          466,
          467,
          468,
          469,
          470,
          471,
          472,
          473,
          474,
          475,
          476,
          477,
          478
         ],
         "xaxis": "x",
         "y": [
          0.04191388888888889,
          0.04191388888888889,
          0.04191388888888889,
          0.04191388888888889,
          0.04191388888888889,
          0.04191388888888889,
          0.04191388888888889,
          0.04191388888888889,
          0.04191388888888889,
          0.04171388888888889,
          0.04171388888888889,
          0.04171388888888889,
          0.04171388888888889,
          0.040513888888888884,
          0.040113888888888886,
          0.038413888888888886,
          0.03841388888888889,
          0.03841388888888889,
          0.03781388888888888,
          0.03781388888888888,
          0.03781388888888888,
          0.037113888888888884,
          0.037113888888888884,
          0.039113888888888886,
          0.039113888888888886,
          0.039113888888888886,
          0.037913888888888886,
          0.03791388888888889,
          0.037913888888888886,
          0.03791388888888889,
          0.037913888888888886,
          0.03791388888888889,
          0.037913888888888886,
          0.038913888888888894,
          0.03891388888888889,
          0.038913888888888894,
          0.04031388888888889,
          0.04031388888888889,
          0.040313888888888885,
          0.03911388888888889,
          0.041113888888888894,
          0.041113888888888894,
          0.041113888888888894,
          0.041113888888888894,
          0.039913888888888895,
          0.039913888888888895,
          0.039913888888888895,
          0.039913888888888895,
          0.04124722222222222,
          0.04124722222222222,
          0.04224722222222222,
          0.04224722222222222,
          0.04224722222222222,
          0.04224722222222222,
          0.04224722222222222,
          0.04141388888888889,
          0.04141388888888889,
          0.04141388888888889,
          0.04141388888888889,
          0.04141388888888889,
          0.04141388888888889,
          0.04141388888888889,
          0.04141388888888889,
          0.042813888888888894,
          0.041613888888888895,
          0.04121388888888889,
          0.04121388888888889,
          0.04121388888888889,
          0.04121388888888889,
          0.04121388888888889,
          0.03981388888888889,
          0.03981388888888889,
          0.039813888888888885,
          0.03901388888888889,
          0.03901388888888889,
          0.03901388888888889,
          0.037613888888888884,
          0.03761388888888889,
          0.03761388888888889,
          0.036813888888888896,
          0.03681388888888888,
          0.036813888888888896,
          0.036813888888888896,
          0.03681388888888888,
          0.03681388888888889,
          0.03681388888888889,
          0.03561388888888889,
          0.035013888888888886,
          0.035013888888888886,
          0.035013888888888886,
          0.035013888888888886,
          0.034013888888888885,
          0.03281388888888889,
          0.03281388888888889,
          0.03281388888888889,
          0.03281388888888889,
          0.03281388888888889,
          0.03281388888888889,
          0.032313888888888885,
          0.03231388888888889,
          0.03231388888888889,
          0.032513888888888884,
          0.032313888888888885,
          0.03231388888888889,
          0.03231388888888889,
          0.03231388888888889,
          0.032313888888888885,
          0.03231388888888889,
          0.03231388888888889,
          0.033513888888888885,
          0.033513888888888885,
          0.034513888888888886,
          0.03391388888888889,
          0.03391388888888889,
          0.03391388888888889,
          0.03351388888888889,
          0.03351388888888889,
          0.033513888888888885,
          0.03151388888888889,
          0.03151388888888888,
          0.03051388888888889,
          0.030513888888888886,
          0.03051388888888889,
          0.030513888888888886,
          0.03051388888888889,
          0.030513888888888886,
          0.03051388888888889,
          0.030513888888888886,
          0.03051388888888889,
          0.03051388888888889,
          0.03118055555555556,
          0.03118055555555556,
          0.03118055555555556,
          0.03118055555555556,
          0.03118055555555556,
          0.03118055555555556,
          0.03091388888888889,
          0.03091388888888889,
          0.030713888888888888,
          0.030713888888888888,
          0.031413888888888894,
          0.031413888888888894,
          0.031413888888888894,
          0.031413888888888894,
          0.031413888888888894,
          0.031413888888888894,
          0.031413888888888894,
          0.03221388888888889,
          0.03281388888888889,
          0.03281388888888889,
          0.031813888888888885,
          0.03181388888888889,
          0.031813888888888885,
          0.03181388888888889,
          0.03181388888888889,
          0.031613888888888886,
          0.03091388888888889,
          0.031113888888888892,
          0.03031388888888889,
          0.03031388888888889,
          0.03106388888888889,
          0.03106388888888889,
          0.02936388888888889,
          0.029363888888888887,
          0.02936388888888889,
          0.029163888888888892,
          0.030163888888888893,
          0.029363888888888887,
          0.02936388888888889,
          0.029763888888888885,
          0.02976388888888889,
          0.029763888888888892,
          0.030763888888888893,
          0.030763888888888886,
          0.030388888888888892,
          0.030388888888888892,
          0.030388888888888892,
          0.03038888888888889,
          0.030388888888888885,
          0.03038888888888889,
          0.03138888888888889,
          0.03138888888888889,
          0.03138888888888888,
          0.03138888888888889,
          0.03138888888888889,
          0.030588888888888888,
          0.029388888888888888,
          0.029388888888888888,
          0.029388888888888885,
          0.02938888888888889,
          0.029388888888888888,
          0.029388888888888888,
          0.030388888888888885,
          0.030388888888888892,
          0.030388888888888885,
          0.03058888888888889,
          0.030588888888888888,
          0.03058888888888889,
          0.03158888888888889,
          0.03058888888888889,
          0.030588888888888888,
          0.03058888888888889,
          0.030588888888888888,
          0.03118888888888889,
          0.03218888888888889,
          0.03218888888888889,
          0.032188888888888885,
          0.03178888888888889,
          0.03178888888888889,
          0.03178888888888889,
          0.03178888888888889,
          0.031988888888888886,
          0.031988888888888886,
          0.03098888888888889,
          0.030988888888888892,
          0.03098888888888889,
          0.029488888888888887,
          0.02948888888888889,
          0.029488888888888887,
          0.03048888888888889,
          0.03048888888888889,
          0.030488888888888892,
          0.03048888888888889,
          0.03048888888888889,
          0.03048888888888889,
          0.03048888888888889,
          0.03048888888888889,
          0.03048888888888889,
          0.03048888888888889,
          0.03048888888888889,
          0.03048888888888889,
          0.03048888888888889,
          0.03088888888888889,
          0.030888888888888893,
          0.030888888888888893,
          0.030888888888888886,
          0.03051388888888889,
          0.030513888888888886,
          0.03051388888888889,
          0.03151388888888888,
          0.03151388888888889,
          0.03151388888888889,
          0.03151388888888889,
          0.03151388888888888,
          0.03151388888888889,
          0.03151388888888889,
          0.03151388888888889,
          0.03151388888888889,
          0.03084722222222222,
          0.03104722222222222,
          0.03104722222222222,
          0.03104722222222222,
          0.031047222222222223,
          0.031047222222222223,
          0.031047222222222223,
          0.03171388888888889,
          0.03171388888888889,
          0.030113888888888888,
          0.030113888888888888,
          0.030113888888888888,
          0.030713888888888888,
          0.030713888888888888,
          0.030713888888888888,
          0.030713888888888888,
          0.030713888888888888,
          0.030913888888888887,
          0.030913888888888883,
          0.030913888888888883,
          0.03191388888888889,
          0.03191388888888889,
          0.03191388888888889,
          0.03191388888888889,
          0.032513888888888884,
          0.032513888888888884,
          0.032513888888888884,
          0.032513888888888884,
          0.032513888888888884,
          0.033513888888888885,
          0.033513888888888885,
          0.033138888888888884,
          0.033138888888888884,
          0.033138888888888884,
          0.033138888888888884,
          0.033138888888888884,
          0.03313888888888889,
          0.03313888888888889,
          0.03313888888888889,
          0.032638888888888884,
          0.03263888888888889,
          0.032638888888888884,
          0.032638888888888884,
          0.032638888888888884,
          0.03263888888888889,
          0.032638888888888884,
          0.032638888888888884,
          0.032638888888888884,
          0.03263888888888889,
          0.032638888888888884,
          0.032638888888888884,
          0.032638888888888884,
          0.032638888888888884,
          0.033638888888888885,
          0.033638888888888885,
          0.03397222222222222,
          0.03397222222222222,
          0.03477222222222222,
          0.03477222222222222,
          0.03477222222222222,
          0.03377222222222222,
          0.033772222222222224,
          0.033772222222222224,
          0.03377222222222222,
          0.03397222222222222,
          0.03397222222222222,
          0.03397222222222222,
          0.03397222222222222,
          0.03397222222222222,
          0.03397222222222222,
          0.03397222222222222,
          0.03397222222222222,
          0.03397222222222222,
          0.03397222222222222,
          0.03537222222222222,
          0.03537222222222222,
          0.03537222222222222,
          0.03367222222222222,
          0.03367222222222222,
          0.03367222222222222,
          0.03367222222222222,
          0.03367222222222222,
          0.03467222222222222,
          0.034672222222222215,
          0.034672222222222215,
          0.03467222222222222,
          0.034672222222222215,
          0.034672222222222215,
          0.03487222222222222,
          0.03487222222222222,
          0.03487222222222222,
          0.03487222222222222,
          0.03487222222222222,
          0.03487222222222222,
          0.03487222222222222,
          0.036272222222222227,
          0.036272222222222227,
          0.03627222222222222,
          0.03627222222222222,
          0.03627222222222222,
          0.036272222222222227,
          0.03660555555555555,
          0.03660555555555555,
          0.03660555555555555,
          0.03660555555555555,
          0.03660555555555555,
          0.03660555555555555,
          0.03660555555555555,
          0.035805555555555556,
          0.03560555555555556,
          0.03560555555555556,
          0.03560555555555556,
          0.03560555555555556,
          0.03560555555555556,
          0.03560555555555556,
          0.03660555555555555,
          0.03660555555555555,
          0.035805555555555556,
          0.035805555555555556,
          0.035805555555555556,
          0.03640555555555555,
          0.03690555555555555,
          0.03690555555555555,
          0.03690555555555556,
          0.03690555555555556,
          0.03690555555555556,
          0.03760555555555555,
          0.03760555555555555,
          0.03760555555555555,
          0.03793888888888889,
          0.03793888888888889,
          0.03793888888888889,
          0.03793888888888889,
          0.03793888888888889,
          0.03793888888888889,
          0.03893888888888889,
          0.03893888888888889,
          0.04053888888888889,
          0.04073888888888889,
          0.04073888888888889,
          0.04073888888888889,
          0.04073888888888889,
          0.04173888888888889,
          0.04173888888888889,
          0.04173888888888889,
          0.04173888888888889,
          0.04173888888888889,
          0.04153888888888889,
          0.04153888888888889,
          0.04353888888888889,
          0.042738888888888896,
          0.040738888888888894,
          0.04053888888888889,
          0.04053888888888889,
          0.04053888888888889,
          0.039938888888888885,
          0.03973888888888889,
          0.04093888888888889,
          0.04093888888888889,
          0.040938888888888886,
          0.04163888888888889,
          0.041638888888888885,
          0.041638888888888885,
          0.041638888888888885,
          0.041638888888888885,
          0.041638888888888885,
          0.041638888888888885,
          0.043263888888888886,
          0.043263888888888886,
          0.043263888888888886,
          0.04286388888888889,
          0.04386388888888889,
          0.0438638888888889,
          0.04386388888888889,
          0.04406388888888888,
          0.04406388888888888,
          0.04506388888888888,
          0.04426388888888889,
          0.04426388888888889,
          0.04426388888888889,
          0.04426388888888889,
          0.04426388888888889,
          0.04426388888888889,
          0.04426388888888889,
          0.04426388888888889,
          0.04266388888888888,
          0.043663888888888884,
          0.043663888888888884,
          0.04366388888888889,
          0.043663888888888884,
          0.043663888888888884,
          0.04246388888888889,
          0.042463888888888884,
          0.04246388888888889,
          0.042463888888888884,
          0.04246388888888889,
          0.043463888888888885,
          0.043463888888888885,
          0.043463888888888885,
          0.043463888888888885,
          0.043463888888888885,
          0.043463888888888885,
          0.043463888888888885,
          0.04286388888888889,
          0.04253055555555555,
          0.04253055555555555,
          0.04253055555555555,
          0.04450833333333333,
          0.04450833333333333,
          0.04450833333333333,
          0.04450833333333333,
          0.04450833333333333,
          0.04450833333333333,
          0.04450833333333333,
          0.04509166666666667,
          0.04509166666666667,
          0.04509166666666667,
          0.04389166666666667,
          0.04349166666666666,
          0.043491666666666665,
          0.043491666666666665,
          0.042091666666666666,
          0.04149166666666667,
          0.04149166666666667,
          0.04149166666666667,
          0.04149166666666667,
          0.04149166666666667,
          0.04149166666666667,
          0.04149166666666667,
          0.04149166666666667,
          0.04149166666666667
         ],
         "yaxis": "y"
        },
        {
         "line": {
          "color": "orange"
         },
         "mode": "lines",
         "name": "Slope",
         "type": "scatter",
         "x": [
          0,
          1,
          2,
          3,
          4,
          5,
          6,
          7,
          8,
          9,
          10,
          11,
          12,
          13,
          14,
          15,
          16,
          17,
          18,
          19,
          20,
          21,
          22,
          23,
          24,
          25,
          26,
          27,
          28,
          29,
          30,
          31,
          32,
          33,
          34,
          35,
          36,
          37,
          38,
          39,
          40,
          41,
          42,
          43,
          44,
          45,
          46,
          47,
          48,
          49,
          50,
          51,
          52,
          53,
          54,
          55,
          56,
          57,
          58,
          59,
          60,
          61,
          62,
          63,
          64,
          65,
          66,
          67,
          68,
          69,
          70,
          71,
          72,
          73,
          74,
          75,
          76,
          77,
          78,
          79,
          80,
          81,
          82,
          83,
          84,
          85,
          86,
          87,
          88,
          89,
          90,
          91,
          92,
          93,
          94,
          95,
          96,
          97,
          98,
          99,
          100,
          101,
          102,
          103,
          104,
          105,
          106,
          107,
          108,
          109,
          110,
          111,
          112,
          113,
          114,
          115,
          116,
          117,
          118,
          119,
          120,
          121,
          122,
          123,
          124,
          125,
          126,
          127,
          128,
          129,
          130,
          131,
          132,
          133,
          134,
          135,
          136,
          137,
          138,
          139,
          140,
          141,
          142,
          143,
          144,
          145,
          146,
          147,
          148,
          149,
          150,
          151,
          152,
          153,
          154,
          155,
          156,
          157,
          158,
          159,
          160,
          161,
          162,
          163,
          164,
          165,
          166,
          167,
          168,
          169,
          170,
          171,
          172,
          173,
          174,
          175,
          176,
          177,
          178,
          179,
          180,
          181,
          182,
          183,
          184,
          185,
          186,
          187,
          188,
          189,
          190,
          191,
          192,
          193,
          194,
          195,
          196,
          197,
          198,
          199,
          200,
          201,
          202,
          203,
          204,
          205,
          206,
          207,
          208,
          209,
          210,
          211,
          212,
          213,
          214,
          215,
          216,
          217,
          218,
          219,
          220,
          221,
          222,
          223,
          224,
          225,
          226,
          227,
          228,
          229,
          230,
          231,
          232,
          233,
          234,
          235,
          236,
          237,
          238,
          239,
          240,
          241,
          242,
          243,
          244,
          245,
          246,
          247,
          248,
          249,
          250,
          251,
          252,
          253,
          254,
          255,
          256,
          257,
          258,
          259,
          260,
          261,
          262,
          263,
          264,
          265,
          266,
          267,
          268,
          269,
          270,
          271,
          272,
          273,
          274,
          275,
          276,
          277,
          278,
          279,
          280,
          281,
          282,
          283,
          284,
          285,
          286,
          287,
          288,
          289,
          290,
          291,
          292,
          293,
          294,
          295,
          296,
          297,
          298,
          299,
          300,
          301,
          302,
          303,
          304,
          305,
          306,
          307,
          308,
          309,
          310,
          311,
          312,
          313,
          314,
          315,
          316,
          317,
          318,
          319,
          320,
          321,
          322,
          323,
          324,
          325,
          326,
          327,
          328,
          329,
          330,
          331,
          332,
          333,
          334,
          335,
          336,
          337,
          338,
          339,
          340,
          341,
          342,
          343,
          344,
          345,
          346,
          347,
          348,
          349,
          350,
          351,
          352,
          353,
          354,
          355,
          356,
          357,
          358,
          359,
          360,
          361,
          362,
          363,
          364,
          365,
          366,
          367,
          368,
          369,
          370,
          371,
          372,
          373,
          374,
          375,
          376,
          377,
          378,
          379,
          380,
          381,
          382,
          383,
          384,
          385,
          386,
          387,
          388,
          389,
          390,
          391,
          392,
          393,
          394,
          395,
          396,
          397,
          398,
          399,
          400,
          401,
          402,
          403,
          404,
          405,
          406,
          407,
          408,
          409,
          410,
          411,
          412,
          413,
          414,
          415,
          416,
          417,
          418,
          419,
          420,
          421,
          422,
          423,
          424,
          425,
          426,
          427,
          428,
          429,
          430,
          431,
          432,
          433,
          434,
          435,
          436,
          437,
          438,
          439,
          440,
          441,
          442,
          443,
          444,
          445,
          446,
          447,
          448,
          449,
          450,
          451,
          452,
          453,
          454,
          455,
          456,
          457,
          458,
          459,
          460,
          461,
          462,
          463,
          464,
          465,
          466,
          467,
          468,
          469,
          470,
          471,
          472,
          473,
          474,
          475,
          476,
          477,
          478
         ],
         "y": [
          0.03338313884539551,
          0.033393719896144834,
          0.03340430094689416,
          0.03341488199764348,
          0.033425463048392806,
          0.03343604409914213,
          0.033446625149891454,
          0.03345720620064078,
          0.0334677872513901,
          0.033478368302139426,
          0.03348894935288875,
          0.033499530403638074,
          0.0335101114543874,
          0.03352069250513672,
          0.033531273555886046,
          0.03354185460663536,
          0.03355243565738469,
          0.03356301670813401,
          0.033573597758883335,
          0.03358417880963266,
          0.03359475986038198,
          0.03360534091113131,
          0.03361592196188063,
          0.033626503012629955,
          0.03363708406337928,
          0.0336476651141286,
          0.03365824616487793,
          0.03366882721562725,
          0.033679408266376575,
          0.0336899893171259,
          0.03370057036787522,
          0.033711151418624546,
          0.03372173246937387,
          0.033732313520123194,
          0.03374289457087252,
          0.03375347562162184,
          0.033764056672371166,
          0.03377463772312049,
          0.033785218773869814,
          0.03379579982461914,
          0.03380638087536846,
          0.033816961926117786,
          0.03382754297686711,
          0.033838124027616434,
          0.03384870507836576,
          0.033859286129115075,
          0.0338698671798644,
          0.03388044823061372,
          0.03389102928136305,
          0.03390161033211237,
          0.033912191382861695,
          0.03392277243361102,
          0.03393335348436034,
          0.03394393453510967,
          0.03395451558585899,
          0.033965096636608315,
          0.03397567768735764,
          0.03398625873810696,
          0.03399683978885629,
          0.03400742083960561,
          0.034018001890354935,
          0.03402858294110426,
          0.03403916399185358,
          0.03404974504260291,
          0.03406032609335223,
          0.034070907144101555,
          0.03408148819485088,
          0.0340920692456002,
          0.034102650296349526,
          0.03411323134709885,
          0.034123812397848174,
          0.0341343934485975,
          0.03414497449934682,
          0.034155555550096146,
          0.03416613660084547,
          0.03417671765159479,
          0.03418729870234411,
          0.034197879753093435,
          0.03420846080384276,
          0.03421904185459208,
          0.03422962290534141,
          0.03424020395609073,
          0.034250785006840055,
          0.03426136605758938,
          0.0342719471083387,
          0.03428252815908803,
          0.03429310920983735,
          0.034303690260586675,
          0.034314271311336,
          0.03432485236208532,
          0.03433543341283465,
          0.03434601446358397,
          0.034356595514333295,
          0.03436717656508262,
          0.03437775761583194,
          0.03438833866658127,
          0.03439891971733059,
          0.034409500768079915,
          0.03442008181882924,
          0.03443066286957856,
          0.03444124392032789,
          0.03445182497107721,
          0.034462406021826535,
          0.03447298707257586,
          0.03448356812332518,
          0.03449414917407451,
          0.034504730224823824,
          0.03451531127557315,
          0.03452589232632247,
          0.034536473377071795,
          0.03454705442782112,
          0.03455763547857044,
          0.03456821652931977,
          0.03457879758006909,
          0.034589378630818415,
          0.03459995968156774,
          0.03461054073231706,
          0.03462112178306639,
          0.03463170283381571,
          0.034642283884565035,
          0.03465286493531436,
          0.03466344598606368,
          0.03467402703681301,
          0.03468460808756233,
          0.034695189138311655,
          0.03470577018906098,
          0.0347163512398103,
          0.03472693229055963,
          0.03473751334130895,
          0.034748094392058275,
          0.0347586754428076,
          0.03476925649355692,
          0.03477983754430625,
          0.03479041859505557,
          0.034800999645804895,
          0.03481158069655421,
          0.034822161747303536,
          0.03483274279805286,
          0.034843323848802184,
          0.03485390489955151,
          0.03486448595030083,
          0.034875067001050156,
          0.03488564805179948,
          0.034896229102548804,
          0.03490681015329813,
          0.03491739120404745,
          0.034927972254796776,
          0.0349385533055461,
          0.034949134356295423,
          0.03495971540704475,
          0.03497029645779407,
          0.034980877508543395,
          0.03499145855929272,
          0.03500203961004204,
          0.03501262066079137,
          0.03502320171154069,
          0.035033782762290015,
          0.03504436381303934,
          0.03505494486378866,
          0.03506552591453799,
          0.03507610696528731,
          0.035086688016036635,
          0.03509726906678596,
          0.03510785011753528,
          0.0351184311682846,
          0.035129012219033924,
          0.03513959326978325,
          0.03515017432053257,
          0.035160755371281896,
          0.03517133642203122,
          0.035181917472780544,
          0.03519249852352987,
          0.03520307957427919,
          0.035213660625028516,
          0.03522424167577784,
          0.035234822726527164,
          0.03524540377727649,
          0.03525598482802581,
          0.035266565878775136,
          0.03527714692952446,
          0.035287727980273784,
          0.03529830903102311,
          0.03530889008177243,
          0.035319471132521756,
          0.03533005218327108,
          0.035340633234020404,
          0.03535121428476973,
          0.03536179533551905,
          0.035372376386268375,
          0.0353829574370177,
          0.03539353848776702,
          0.03540411953851635,
          0.03541470058926567,
          0.035425281640014995,
          0.03543586269076432,
          0.035446443741513636,
          0.03545702479226296,
          0.035467605843012284,
          0.03547818689376161,
          0.03548876794451093,
          0.035499348995260256,
          0.03550993004600958,
          0.035520511096758904,
          0.03553109214750823,
          0.03554167319825755,
          0.035552254249006876,
          0.0355628352997562,
          0.035573416350505524,
          0.03558399740125485,
          0.03559457845200417,
          0.035605159502753496,
          0.03561574055350282,
          0.035626321604252144,
          0.03563690265500147,
          0.03564748370575079,
          0.035658064756500116,
          0.03566864580724944,
          0.035679226857998764,
          0.03568980790874809,
          0.03570038895949741,
          0.035710970010246736,
          0.03572155106099606,
          0.035732132111745384,
          0.03574271316249471,
          0.035753294213244025,
          0.035763875263993355,
          0.03577445631474267,
          0.035785037365491996,
          0.03579561841624132,
          0.035806199466990644,
          0.03581678051773997,
          0.03582736156848929,
          0.035837942619238616,
          0.03584852366998794,
          0.035859104720737264,
          0.03586968577148659,
          0.03588026682223591,
          0.035890847872985236,
          0.03590142892373456,
          0.035912009974483884,
          0.03592259102523321,
          0.03593317207598253,
          0.035943753126731856,
          0.03595433417748118,
          0.035964915228230504,
          0.03597549627897983,
          0.03598607732972915,
          0.035996658380478476,
          0.0360072394312278,
          0.036017820481977124,
          0.03602840153272645,
          0.03603898258347577,
          0.036049563634225096,
          0.03606014468497442,
          0.036070725735723744,
          0.03608130678647306,
          0.036091887837222385,
          0.03610246888797171,
          0.03611304993872103,
          0.03612363098947036,
          0.03613421204021968,
          0.036144793090969005,
          0.03615537414171833,
          0.03616595519246765,
          0.036176536243216977,
          0.0361871172939663,
          0.036197698344715624,
          0.03620827939546495,
          0.03621886044621427,
          0.036229441496963596,
          0.03624002254771292,
          0.036250603598462244,
          0.03626118464921157,
          0.03627176569996089,
          0.036282346750710216,
          0.03629292780145954,
          0.036303508852208864,
          0.03631408990295819,
          0.03632467095370751,
          0.036335252004456836,
          0.03634583305520616,
          0.036356414105955484,
          0.03636699515670481,
          0.03637757620745413,
          0.03638815725820345,
          0.03639873830895277,
          0.0364093193597021,
          0.03641990041045142,
          0.036430481461200745,
          0.03644106251195007,
          0.03645164356269939,
          0.03646222461344872,
          0.03647280566419804,
          0.036483386714947365,
          0.03649396776569669,
          0.03650454881644601,
          0.03651512986719534,
          0.03652571091794466,
          0.036536291968693985,
          0.03654687301944331,
          0.03655745407019263,
          0.03656803512094196,
          0.03657861617169128,
          0.036589197222440605,
          0.03659977827318993,
          0.03661035932393925,
          0.036620940374688576,
          0.0366315214254379,
          0.036642102476187224,
          0.03665268352693655,
          0.03666326457768587,
          0.036673845628435196,
          0.03668442667918452,
          0.03669500772993384,
          0.03670558878068317,
          0.036716169831432485,
          0.03672675088218181,
          0.03673733193293113,
          0.03674791298368046,
          0.03675849403442978,
          0.036769075085179105,
          0.03677965613592843,
          0.03679023718667775,
          0.03680081823742708,
          0.0368113992881764,
          0.036821980338925725,
          0.03683256138967505,
          0.03684314244042437,
          0.0368537234911737,
          0.03686430454192302,
          0.036874885592672345,
          0.03688546664342167,
          0.03689604769417099,
          0.03690662874492032,
          0.03691720979566964,
          0.036927790846418965,
          0.03693837189716829,
          0.03694895294791761,
          0.03695953399866694,
          0.03697011504941626,
          0.036980696100165585,
          0.03699127715091491,
          0.03700185820166423,
          0.037012439252413556,
          0.037023020303162874,
          0.0370336013539122,
          0.03704418240466152,
          0.037054763455410845,
          0.03706534450616017,
          0.03707592555690949,
          0.03708650660765882,
          0.03709708765840814,
          0.037107668709157465,
          0.03711824975990679,
          0.03712883081065611,
          0.03713941186140544,
          0.03714999291215476,
          0.037160573962904085,
          0.03717115501365341,
          0.03718173606440273,
          0.03719231711515206,
          0.03720289816590138,
          0.037213479216650705,
          0.03722406026740003,
          0.03723464131814935,
          0.03724522236889868,
          0.037255803419648,
          0.037266384470397325,
          0.03727696552114665,
          0.03728754657189597,
          0.0372981276226453,
          0.03730870867339462,
          0.037319289724143945,
          0.03732987077489326,
          0.03734045182564259,
          0.03735103287639191,
          0.037361613927141234,
          0.03737219497789056,
          0.03738277602863988,
          0.037393357079389206,
          0.03740393813013853,
          0.037414519180887854,
          0.03742510023163718,
          0.0374356812823865,
          0.037446262333135825,
          0.03745684338388515,
          0.03746742443463447,
          0.0374780054853838,
          0.03748858653613312,
          0.037499167586882445,
          0.03750974863763177,
          0.03752032968838109,
          0.03753091073913042,
          0.03754149178987974,
          0.037552072840629065,
          0.03756265389137839,
          0.03757323494212771,
          0.03758381599287704,
          0.03759439704362636,
          0.037604978094375685,
          0.03761555914512501,
          0.03762614019587433,
          0.03763672124662365,
          0.03764730229737298,
          0.0376578833481223,
          0.03766846439887163,
          0.037679045449620946,
          0.03768962650037027,
          0.037700207551119594,
          0.03771078860186892,
          0.03772136965261824,
          0.037731950703367566,
          0.03774253175411689,
          0.037753112804866214,
          0.03776369385561554,
          0.03777427490636486,
          0.037784855957114186,
          0.03779543700786351,
          0.037806018058612834,
          0.03781659910936216,
          0.03782718016011148,
          0.037837761210860806,
          0.03784834226161013,
          0.03785892331235945,
          0.03786950436310878,
          0.0378800854138581,
          0.037890666464607425,
          0.03790124751535675,
          0.03791182856610607,
          0.0379224096168554,
          0.03793299066760472,
          0.037943571718354045,
          0.03795415276910337,
          0.037964733819852686,
          0.03797531487060202,
          0.037985895921351334,
          0.03799647697210066,
          0.03800705802284998,
          0.038017639073599306,
          0.03802822012434863,
          0.038038801175097954,
          0.03804938222584728,
          0.0380599632765966,
          0.038070544327345926,
          0.03808112537809525,
          0.038091706428844574,
          0.0381022874795939,
          0.03811286853034322,
          0.038123449581092546,
          0.03813403063184187,
          0.038144611682591194,
          0.03815519273334052,
          0.03816577378408984,
          0.038176354834839166,
          0.03818693588558849,
          0.038197516936337814,
          0.03820809798708714,
          0.03821867903783646,
          0.038229260088585786,
          0.03823984113933511,
          0.038250422190084434,
          0.03826100324083376,
          0.038271584291583075,
          0.038282165342332405,
          0.03829274639308172,
          0.03830332744383105,
          0.03831390849458037,
          0.038324489545329694,
          0.03833507059607902,
          0.03834565164682834,
          0.038356232697577666,
          0.03836681374832699,
          0.038377394799076314,
          0.03838797584982564,
          0.03839855690057496,
          0.038409137951324286,
          0.03841971900207361,
          0.038430300052822934,
          0.03844088110357226
         ]
        },
        {
         "line": {
          "color": "red",
          "dash": "dash"
         },
         "mode": "lines",
         "name": "Mean = 0.04",
         "type": "scatter",
         "x": [
          0,
          479
         ],
         "y": [
          0.03591200997448387,
          0.03591200997448387
         ]
        },
        {
         "line": {
          "color": "blue",
          "dash": "dash"
         },
         "mode": "lines",
         "name": "Min = 0.03",
         "type": "scatter",
         "x": [
          0,
          479
         ],
         "y": [
          0.029163888888888892,
          0.029163888888888892
         ]
        },
        {
         "line": {
          "color": "green",
          "dash": "dash"
         },
         "mode": "lines",
         "name": "Max = 0.05",
         "type": "scatter",
         "x": [
          0,
          479
         ],
         "y": [
          0.04509166666666667,
          0.04509166666666667
         ]
        }
       ],
       "layout": {
        "legend": {
         "title": {
          "text": "variable"
         },
         "tracegroupgap": 0,
         "x": 1.05,
         "y": 1
        },
        "shapes": [
         {
          "line": {
           "color": "red",
           "dash": "dash"
          },
          "name": "Mean = 0.04",
          "type": "line",
          "x0": 0,
          "x1": 1,
          "xref": "x domain",
          "y0": 0.03591200997448387,
          "y1": 0.03591200997448387,
          "yref": "y"
         },
         {
          "line": {
           "color": "blue",
           "dash": "dash"
          },
          "name": "Min = 0.03",
          "type": "line",
          "x0": 0,
          "x1": 1,
          "xref": "x domain",
          "y0": 0.029163888888888892,
          "y1": 0.029163888888888892,
          "yref": "y"
         },
         {
          "line": {
           "color": "green",
           "dash": "dash"
          },
          "name": "Max = 0.05",
          "type": "line",
          "x0": 0,
          "x1": 1,
          "xref": "x domain",
          "y0": 0.04509166666666667,
          "y1": 0.04509166666666667,
          "yref": "y"
         }
        ],
        "showlegend": true,
        "template": {
         "data": {
          "bar": [
           {
            "error_x": {
             "color": "#2a3f5f"
            },
            "error_y": {
             "color": "#2a3f5f"
            },
            "marker": {
             "line": {
              "color": "#E5ECF6",
              "width": 0.5
             },
             "pattern": {
              "fillmode": "overlay",
              "size": 10,
              "solidity": 0.2
             }
            },
            "type": "bar"
           }
          ],
          "barpolar": [
           {
            "marker": {
             "line": {
              "color": "#E5ECF6",
              "width": 0.5
             },
             "pattern": {
              "fillmode": "overlay",
              "size": 10,
              "solidity": 0.2
             }
            },
            "type": "barpolar"
           }
          ],
          "carpet": [
           {
            "aaxis": {
             "endlinecolor": "#2a3f5f",
             "gridcolor": "white",
             "linecolor": "white",
             "minorgridcolor": "white",
             "startlinecolor": "#2a3f5f"
            },
            "baxis": {
             "endlinecolor": "#2a3f5f",
             "gridcolor": "white",
             "linecolor": "white",
             "minorgridcolor": "white",
             "startlinecolor": "#2a3f5f"
            },
            "type": "carpet"
           }
          ],
          "choropleth": [
           {
            "colorbar": {
             "outlinewidth": 0,
             "ticks": ""
            },
            "type": "choropleth"
           }
          ],
          "contour": [
           {
            "colorbar": {
             "outlinewidth": 0,
             "ticks": ""
            },
            "colorscale": [
             [
              0,
              "#0d0887"
             ],
             [
              0.1111111111111111,
              "#46039f"
             ],
             [
              0.2222222222222222,
              "#7201a8"
             ],
             [
              0.3333333333333333,
              "#9c179e"
             ],
             [
              0.4444444444444444,
              "#bd3786"
             ],
             [
              0.5555555555555556,
              "#d8576b"
             ],
             [
              0.6666666666666666,
              "#ed7953"
             ],
             [
              0.7777777777777778,
              "#fb9f3a"
             ],
             [
              0.8888888888888888,
              "#fdca26"
             ],
             [
              1,
              "#f0f921"
             ]
            ],
            "type": "contour"
           }
          ],
          "contourcarpet": [
           {
            "colorbar": {
             "outlinewidth": 0,
             "ticks": ""
            },
            "type": "contourcarpet"
           }
          ],
          "heatmap": [
           {
            "colorbar": {
             "outlinewidth": 0,
             "ticks": ""
            },
            "colorscale": [
             [
              0,
              "#0d0887"
             ],
             [
              0.1111111111111111,
              "#46039f"
             ],
             [
              0.2222222222222222,
              "#7201a8"
             ],
             [
              0.3333333333333333,
              "#9c179e"
             ],
             [
              0.4444444444444444,
              "#bd3786"
             ],
             [
              0.5555555555555556,
              "#d8576b"
             ],
             [
              0.6666666666666666,
              "#ed7953"
             ],
             [
              0.7777777777777778,
              "#fb9f3a"
             ],
             [
              0.8888888888888888,
              "#fdca26"
             ],
             [
              1,
              "#f0f921"
             ]
            ],
            "type": "heatmap"
           }
          ],
          "heatmapgl": [
           {
            "colorbar": {
             "outlinewidth": 0,
             "ticks": ""
            },
            "colorscale": [
             [
              0,
              "#0d0887"
             ],
             [
              0.1111111111111111,
              "#46039f"
             ],
             [
              0.2222222222222222,
              "#7201a8"
             ],
             [
              0.3333333333333333,
              "#9c179e"
             ],
             [
              0.4444444444444444,
              "#bd3786"
             ],
             [
              0.5555555555555556,
              "#d8576b"
             ],
             [
              0.6666666666666666,
              "#ed7953"
             ],
             [
              0.7777777777777778,
              "#fb9f3a"
             ],
             [
              0.8888888888888888,
              "#fdca26"
             ],
             [
              1,
              "#f0f921"
             ]
            ],
            "type": "heatmapgl"
           }
          ],
          "histogram": [
           {
            "marker": {
             "pattern": {
              "fillmode": "overlay",
              "size": 10,
              "solidity": 0.2
             }
            },
            "type": "histogram"
           }
          ],
          "histogram2d": [
           {
            "colorbar": {
             "outlinewidth": 0,
             "ticks": ""
            },
            "colorscale": [
             [
              0,
              "#0d0887"
             ],
             [
              0.1111111111111111,
              "#46039f"
             ],
             [
              0.2222222222222222,
              "#7201a8"
             ],
             [
              0.3333333333333333,
              "#9c179e"
             ],
             [
              0.4444444444444444,
              "#bd3786"
             ],
             [
              0.5555555555555556,
              "#d8576b"
             ],
             [
              0.6666666666666666,
              "#ed7953"
             ],
             [
              0.7777777777777778,
              "#fb9f3a"
             ],
             [
              0.8888888888888888,
              "#fdca26"
             ],
             [
              1,
              "#f0f921"
             ]
            ],
            "type": "histogram2d"
           }
          ],
          "histogram2dcontour": [
           {
            "colorbar": {
             "outlinewidth": 0,
             "ticks": ""
            },
            "colorscale": [
             [
              0,
              "#0d0887"
             ],
             [
              0.1111111111111111,
              "#46039f"
             ],
             [
              0.2222222222222222,
              "#7201a8"
             ],
             [
              0.3333333333333333,
              "#9c179e"
             ],
             [
              0.4444444444444444,
              "#bd3786"
             ],
             [
              0.5555555555555556,
              "#d8576b"
             ],
             [
              0.6666666666666666,
              "#ed7953"
             ],
             [
              0.7777777777777778,
              "#fb9f3a"
             ],
             [
              0.8888888888888888,
              "#fdca26"
             ],
             [
              1,
              "#f0f921"
             ]
            ],
            "type": "histogram2dcontour"
           }
          ],
          "mesh3d": [
           {
            "colorbar": {
             "outlinewidth": 0,
             "ticks": ""
            },
            "type": "mesh3d"
           }
          ],
          "parcoords": [
           {
            "line": {
             "colorbar": {
              "outlinewidth": 0,
              "ticks": ""
             }
            },
            "type": "parcoords"
           }
          ],
          "pie": [
           {
            "automargin": true,
            "type": "pie"
           }
          ],
          "scatter": [
           {
            "fillpattern": {
             "fillmode": "overlay",
             "size": 10,
             "solidity": 0.2
            },
            "type": "scatter"
           }
          ],
          "scatter3d": [
           {
            "line": {
             "colorbar": {
              "outlinewidth": 0,
              "ticks": ""
             }
            },
            "marker": {
             "colorbar": {
              "outlinewidth": 0,
              "ticks": ""
             }
            },
            "type": "scatter3d"
           }
          ],
          "scattercarpet": [
           {
            "marker": {
             "colorbar": {
              "outlinewidth": 0,
              "ticks": ""
             }
            },
            "type": "scattercarpet"
           }
          ],
          "scattergeo": [
           {
            "marker": {
             "colorbar": {
              "outlinewidth": 0,
              "ticks": ""
             }
            },
            "type": "scattergeo"
           }
          ],
          "scattergl": [
           {
            "marker": {
             "colorbar": {
              "outlinewidth": 0,
              "ticks": ""
             }
            },
            "type": "scattergl"
           }
          ],
          "scattermapbox": [
           {
            "marker": {
             "colorbar": {
              "outlinewidth": 0,
              "ticks": ""
             }
            },
            "type": "scattermapbox"
           }
          ],
          "scatterpolar": [
           {
            "marker": {
             "colorbar": {
              "outlinewidth": 0,
              "ticks": ""
             }
            },
            "type": "scatterpolar"
           }
          ],
          "scatterpolargl": [
           {
            "marker": {
             "colorbar": {
              "outlinewidth": 0,
              "ticks": ""
             }
            },
            "type": "scatterpolargl"
           }
          ],
          "scatterternary": [
           {
            "marker": {
             "colorbar": {
              "outlinewidth": 0,
              "ticks": ""
             }
            },
            "type": "scatterternary"
           }
          ],
          "surface": [
           {
            "colorbar": {
             "outlinewidth": 0,
             "ticks": ""
            },
            "colorscale": [
             [
              0,
              "#0d0887"
             ],
             [
              0.1111111111111111,
              "#46039f"
             ],
             [
              0.2222222222222222,
              "#7201a8"
             ],
             [
              0.3333333333333333,
              "#9c179e"
             ],
             [
              0.4444444444444444,
              "#bd3786"
             ],
             [
              0.5555555555555556,
              "#d8576b"
             ],
             [
              0.6666666666666666,
              "#ed7953"
             ],
             [
              0.7777777777777778,
              "#fb9f3a"
             ],
             [
              0.8888888888888888,
              "#fdca26"
             ],
             [
              1,
              "#f0f921"
             ]
            ],
            "type": "surface"
           }
          ],
          "table": [
           {
            "cells": {
             "fill": {
              "color": "#EBF0F8"
             },
             "line": {
              "color": "white"
             }
            },
            "header": {
             "fill": {
              "color": "#C8D4E3"
             },
             "line": {
              "color": "white"
             }
            },
            "type": "table"
           }
          ]
         },
         "layout": {
          "annotationdefaults": {
           "arrowcolor": "#2a3f5f",
           "arrowhead": 0,
           "arrowwidth": 1
          },
          "autotypenumbers": "strict",
          "coloraxis": {
           "colorbar": {
            "outlinewidth": 0,
            "ticks": ""
           }
          },
          "colorscale": {
           "diverging": [
            [
             0,
             "#8e0152"
            ],
            [
             0.1,
             "#c51b7d"
            ],
            [
             0.2,
             "#de77ae"
            ],
            [
             0.3,
             "#f1b6da"
            ],
            [
             0.4,
             "#fde0ef"
            ],
            [
             0.5,
             "#f7f7f7"
            ],
            [
             0.6,
             "#e6f5d0"
            ],
            [
             0.7,
             "#b8e186"
            ],
            [
             0.8,
             "#7fbc41"
            ],
            [
             0.9,
             "#4d9221"
            ],
            [
             1,
             "#276419"
            ]
           ],
           "sequential": [
            [
             0,
             "#0d0887"
            ],
            [
             0.1111111111111111,
             "#46039f"
            ],
            [
             0.2222222222222222,
             "#7201a8"
            ],
            [
             0.3333333333333333,
             "#9c179e"
            ],
            [
             0.4444444444444444,
             "#bd3786"
            ],
            [
             0.5555555555555556,
             "#d8576b"
            ],
            [
             0.6666666666666666,
             "#ed7953"
            ],
            [
             0.7777777777777778,
             "#fb9f3a"
            ],
            [
             0.8888888888888888,
             "#fdca26"
            ],
            [
             1,
             "#f0f921"
            ]
           ],
           "sequentialminus": [
            [
             0,
             "#0d0887"
            ],
            [
             0.1111111111111111,
             "#46039f"
            ],
            [
             0.2222222222222222,
             "#7201a8"
            ],
            [
             0.3333333333333333,
             "#9c179e"
            ],
            [
             0.4444444444444444,
             "#bd3786"
            ],
            [
             0.5555555555555556,
             "#d8576b"
            ],
            [
             0.6666666666666666,
             "#ed7953"
            ],
            [
             0.7777777777777778,
             "#fb9f3a"
            ],
            [
             0.8888888888888888,
             "#fdca26"
            ],
            [
             1,
             "#f0f921"
            ]
           ]
          },
          "colorway": [
           "#636efa",
           "#EF553B",
           "#00cc96",
           "#ab63fa",
           "#FFA15A",
           "#19d3f3",
           "#FF6692",
           "#B6E880",
           "#FF97FF",
           "#FECB52"
          ],
          "font": {
           "color": "#2a3f5f"
          },
          "geo": {
           "bgcolor": "white",
           "lakecolor": "white",
           "landcolor": "#E5ECF6",
           "showlakes": true,
           "showland": true,
           "subunitcolor": "white"
          },
          "hoverlabel": {
           "align": "left"
          },
          "hovermode": "closest",
          "mapbox": {
           "style": "light"
          },
          "paper_bgcolor": "white",
          "plot_bgcolor": "#E5ECF6",
          "polar": {
           "angularaxis": {
            "gridcolor": "white",
            "linecolor": "white",
            "ticks": ""
           },
           "bgcolor": "#E5ECF6",
           "radialaxis": {
            "gridcolor": "white",
            "linecolor": "white",
            "ticks": ""
           }
          },
          "scene": {
           "xaxis": {
            "backgroundcolor": "#E5ECF6",
            "gridcolor": "white",
            "gridwidth": 2,
            "linecolor": "white",
            "showbackground": true,
            "ticks": "",
            "zerolinecolor": "white"
           },
           "yaxis": {
            "backgroundcolor": "#E5ECF6",
            "gridcolor": "white",
            "gridwidth": 2,
            "linecolor": "white",
            "showbackground": true,
            "ticks": "",
            "zerolinecolor": "white"
           },
           "zaxis": {
            "backgroundcolor": "#E5ECF6",
            "gridcolor": "white",
            "gridwidth": 2,
            "linecolor": "white",
            "showbackground": true,
            "ticks": "",
            "zerolinecolor": "white"
           }
          },
          "shapedefaults": {
           "line": {
            "color": "#2a3f5f"
           }
          },
          "ternary": {
           "aaxis": {
            "gridcolor": "white",
            "linecolor": "white",
            "ticks": ""
           },
           "baxis": {
            "gridcolor": "white",
            "linecolor": "white",
            "ticks": ""
           },
           "bgcolor": "#E5ECF6",
           "caxis": {
            "gridcolor": "white",
            "linecolor": "white",
            "ticks": ""
           }
          },
          "title": {
           "x": 0.05
          },
          "xaxis": {
           "automargin": true,
           "gridcolor": "white",
           "linecolor": "white",
           "ticks": "",
           "title": {
            "standoff": 15
           },
           "zerolinecolor": "white",
           "zerolinewidth": 2
          },
          "yaxis": {
           "automargin": true,
           "gridcolor": "white",
           "linecolor": "white",
           "ticks": "",
           "title": {
            "standoff": 15
           },
           "zerolinecolor": "white",
           "zerolinewidth": 2
          }
         }
        },
        "title": {
         "text": "Cindirella: 500-Word Moving Average Sentiment"
        },
        "xaxis": {
         "anchor": "y",
         "domain": [
          0,
          1
         ],
         "title": {
          "text": "Window Index"
         }
        },
        "yaxis": {
         "anchor": "x",
         "domain": [
          0,
          1
         ],
         "title": {
          "text": "Average Polarity (Standardized)"
         }
        }
       }
      }
     },
     "metadata": {},
     "output_type": "display_data"
    }
   ],
   "source": [
    "sentiment.moving_average_sentiment(group=[text[0]], \n",
    "                                   window=500, \n",
    "                                   plot=True, \n",
    "                                   plot_engine='plotly', \n",
    "                                   story_title='Cindirella')"
   ]
  }
 ],
 "metadata": {
  "kernelspec": {
   "display_name": "sentiment_analysis",
   "language": "python",
   "name": "python3"
  },
  "language_info": {
   "codemirror_mode": {
    "name": "ipython",
    "version": 3
   },
   "file_extension": ".py",
   "mimetype": "text/x-python",
   "name": "python",
   "nbconvert_exporter": "python",
   "pygments_lexer": "ipython3",
   "version": "3.12.5"
  }
 },
 "nbformat": 4,
 "nbformat_minor": 2
}
